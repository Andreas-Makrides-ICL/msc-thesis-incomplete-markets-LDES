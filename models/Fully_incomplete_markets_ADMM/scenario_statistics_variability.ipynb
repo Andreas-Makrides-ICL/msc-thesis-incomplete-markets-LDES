{
 "cells": [
  {
   "cell_type": "code",
   "execution_count": null,
   "id": "971be8ef",
   "metadata": {},
   "outputs": [
    {
     "name": "stdout",
     "output_type": "stream",
     "text": [
      "Scenario Load Statistics:\n",
      "\u001b[1m13×5 DataFrame\u001b[0m\n",
      "\u001b[1m Row \u001b[0m│\u001b[1m O     \u001b[0m\u001b[1m Mean     \u001b[0m\u001b[1m StdDev   \u001b[0m\u001b[1m Min     \u001b[0m\u001b[1m Max      \u001b[0m\n",
      "     │\u001b[90m Int64 \u001b[0m\u001b[90m Float64  \u001b[0m\u001b[90m Float64  \u001b[0m\u001b[90m Float64 \u001b[0m\u001b[90m Float64  \u001b[0m\n",
      "─────┼──────────────────────────────────────────────\n",
      "   1 │     1  0.238955  0.224965      0.0  0.949\n",
      "   2 │     3  0.225068  0.203905      0.0  0.904225\n",
      "   3 │     4  0.215175  0.199049      0.0  0.96145\n",
      "   4 │     5  0.231637  0.21174       0.0  0.9643\n",
      "   5 │     6  0.221257  0.198701      0.0  0.931067\n",
      "   6 │    13  0.208332  0.194314      0.0  0.9579\n",
      "   7 │    14  0.206023  0.183623      0.0  0.91142\n",
      "   8 │    15  0.209917  0.194031      0.0  0.92876\n",
      "   9 │    18  0.214585  0.192893      0.0  0.9657\n",
      "  10 │    21  0.192676  0.173472      0.0  0.86504\n",
      "  11 │    31  0.191016  0.173748      0.0  0.8693\n",
      "  12 │    33  0.197095  0.184596      0.0  0.9455\n",
      "  13 │    40  0.210881  0.187649      0.0  0.935683"
     ]
    },
    {
     "ename": "ArgumentError",
     "evalue": "ArgumentError: Duplicate entries in unstack at row 46801 for key (1,) and variable 13. Pass `combine` keyword argument to specify how they should be handled.",
     "output_type": "error",
     "traceback": [
      "ArgumentError: Duplicate entries in unstack at row 46801 for key (1,) and variable 13. Pass `combine` keyword argument to specify how they should be handled.\n",
      "\n",
      "Stacktrace:\n",
      " [1] _unstack(df::DataFrame, rowkeys::Vector{Int64}, colkey::Int64, g_colkey::GroupedDataFrame{DataFrame}, valuecol::Vector{Float64}, g_rowkey::GroupedDataFrame{DataFrame}, renamecols::typeof(identity), allowmissing::Bool, noduplicates::Bool, fill::Missing)\n",
      "   @ DataFrames C:\\Users\\user\\.julia\\packages\\DataFrames\\kcA9R\\src\\abstractdataframe\\reshape.jl:569\n",
      " [2] unstack(df::DataFrame, rowkeys::Symbol, colkey::Symbol, values::Symbol; renamecols::Function, allowmissing::Bool, allowduplicates::Bool, combine::Function, fill::Missing, threads::Bool)\n",
      "   @ DataFrames C:\\Users\\user\\.julia\\packages\\DataFrames\\kcA9R\\src\\abstractdataframe\\reshape.jl:478\n",
      " [3] unstack(df::DataFrame, rowkeys::Symbol, colkey::Symbol, values::Symbol)\n",
      "   @ DataFrames C:\\Users\\user\\.julia\\packages\\DataFrames\\kcA9R\\src\\abstractdataframe\\reshape.jl:420\n",
      " [4] top-level scope\n",
      "   @ c:\\Users\\user\\Desktop\\msc-thesis-incomplete-markets-LDES\\models\\Complete_markets_risk_averse_cantral_planner\\jl_notebook_cell_df34fa98e69747e1a8f8a730347b8e2f_W0sZmlsZQ==.jl:18"
     ]
    }
   ],
   "source": [
    "using CSV, DataFrames, Statistics, Plots\n",
    "\n",
    "# Load data\n",
    "df = CSV.read(\"data_final/d/selected_load_profiles.csv\", DataFrame)\n",
    "\n",
    "# Group by scenario (O) and compute statistics\n",
    "scenario_stats = combine(groupby(df, :O), \n",
    "    :value => mean => :Mean,\n",
    "    :value => std => :StdDev,\n",
    "    :value => minimum => :Min,\n",
    "    :value => maximum => :Max\n",
    ")\n",
    "\n",
    "println(\"Scenario Load Statistics:\")\n",
    "show(scenario_stats, allrows=true, allcols=true)\n",
    "\n",
    "# Pivot to wide format for plotting\n",
    "df_wide = unstack(df, :T, :O, :value)\n",
    "\n",
    "# Plot\n",
    "plot()\n",
    "for col in names(df_wide)[2:end]\n",
    "    plot!(df_wide.T, df_wide[!, col], label=\"Scenario $col\")\n",
    "end\n",
    "xlabel!(\"Time Step (T)\")\n",
    "ylabel!(\"Load Value\")\n",
    "title!(\"Load Profiles Over Time for Each Scenario\")\n",
    "plot!(legend=:outerright)\n"
   ]
  }
 ],
 "metadata": {
  "kernelspec": {
   "display_name": "Julia 1.11.4",
   "language": "julia",
   "name": "julia-1.11"
  },
  "language_info": {
   "file_extension": ".jl",
   "mimetype": "application/julia",
   "name": "julia",
   "version": "1.11.4"
  }
 },
 "nbformat": 4,
 "nbformat_minor": 5
}
