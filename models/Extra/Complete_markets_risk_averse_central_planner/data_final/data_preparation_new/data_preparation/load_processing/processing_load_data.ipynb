{
 "cells": [
  {
   "cell_type": "code",
   "execution_count": 1,
   "id": "6b3f52d5",
   "metadata": {},
   "outputs": [
    {
     "name": "stdout",
     "output_type": "stream",
     "text": [
      "year,hour_of_year,value,normalized\n",
      "2008,7437.0,44020,0.7590833060302461\n",
      "2008,7438.0,40228,0.6936938490455415\n",
      "2008,7439.0,37640,0.6490662344156852\n",
      "2008,7440.0,36831,0.6351157938300771\n",
      "2008,7441.0,36397,0.627631873911469\n",
      "\n"
     ]
    }
   ],
   "source": [
    "import pandas as pd\n",
    "\n",
    "# Read the CSV file directly\n",
    "df = pd.read_csv(r\"C:\\Users\\user\\Desktop\\msc-thesis-incomplete-markets-LDES\\models\\Complete_markets_risk_averse_central_planner\\data_final\\data_preparation_new\\data_preparation\\load_processing\\data\\espeni.csv\")\n",
    "\n",
    "# Convert ELEXM_utc to datetime (already UTC, so no change needed)\n",
    "df['ELEXM_utc'] = pd.to_datetime(df['ELEXM_utc'])\n",
    "\n",
    "# Extract year\n",
    "df['year'] = df['ELEXM_utc'].dt.year\n",
    "\n",
    "# Calculate hour of the year (hours since start of year), ensuring UTC timezone\n",
    "df['hour_of_year'] = (df['ELEXM_utc'] - pd.to_datetime(df['year'].astype(str) + '-01-01', utc=True)).dt.total_seconds() / 3600\n",
    "\n",
    "# Filter out half-hourly data (keep only whole hours)\n",
    "df = df[df['hour_of_year'].apply(lambda x: x % 1 == 0)]\n",
    "\n",
    "# Select required columns and rename POWER_ESPENI_MW to value\n",
    "processed_df = df[['year', 'hour_of_year', 'POWER_ESPENI_MW']].copy()\n",
    "processed_df.rename(columns={'POWER_ESPENI_MW': 'value'}, inplace=True)\n",
    "\n",
    "# Handle invalid or missing data\n",
    "processed_df = processed_df.dropna()\n",
    "processed_df = processed_df[processed_df['value'].notnull() & processed_df['value'].apply(lambda x: isinstance(x, (int, float)))]\n",
    "\n",
    "# Calculate normalized column: value divided by the maximum value for each year\n",
    "processed_df['normalized'] = processed_df.groupby('year')['value'].transform(lambda x: x / x.max())\n",
    "\n",
    "# Save to processed_data.csv\n",
    "processed_df.to_csv('processed_data.csv', index=False)\n",
    "\n",
    "# Print the first few rows for verification\n",
    "print(processed_df.head().to_csv(index=False))"
   ]
  },
  {
   "cell_type": "code",
   "execution_count": 7,
   "id": "74c3cc8b",
   "metadata": {},
   "outputs": [
    {
     "name": "stdout",
     "output_type": "stream",
     "text": [
      "0\n",
      "Y,T,value\n",
      "1,1,0.5521266194084576\n",
      "1,2,0.5526562372688014\n",
      "1,3,0.5224272793937913\n",
      "1,4,0.5069054021021755\n",
      "1,5,0.4889798745213069\n",
      "\n"
     ]
    },
    {
     "name": "stderr",
     "output_type": "stream",
     "text": [
      "C:\\Users\\user\\AppData\\Local\\Temp\\ipykernel_31372\\1178648455.py:29: DeprecationWarning: DataFrameGroupBy.apply operated on the grouping columns. This behavior is deprecated, and in a future version of pandas the grouping columns will be excluded from the operation. Either pass `include_groups=False` to exclude the groupings or explicitly select the grouping columns after groupby to silence this warning.\n",
      "  df_filtered = df[df['year'].isin(Y)].groupby('year').apply(filter_leap_year).reset_index(drop=True)\n"
     ]
    }
   ],
   "source": [
    "import pandas as pd\n",
    "import numpy as np\n",
    "\n",
    "# Parameters\n",
    "n = 12  # Desired number of years\n",
    "output_file = 'sampled_normalized_data_12.csv'\n",
    "\n",
    "# Load the processed data\n",
    "df = pd.read_csv('processed_data.csv')\n",
    "\n",
    "# Filter for whole hours (should already be done, but ensure for safety)\n",
    "df = df[df['hour_of_year'].apply(lambda x: x % 1 == 0)]\n",
    "\n",
    "# Count hours per year\n",
    "hours_per_year = df.groupby('year')['hour_of_year'].count()\n",
    "\n",
    "# Identify years with at least 8760 hours (set Y)\n",
    "Y = hours_per_year[hours_per_year >= 8760].index.tolist()\n",
    "\n",
    "# For leap years, remove data beyond 8760 hours (last day of leap year)\n",
    "def filter_leap_year(df_year):\n",
    "    year = df_year['year'].iloc[0]\n",
    "    is_leap = (year % 4 == 0 and year % 100 != 0) or (year % 400 == 0)\n",
    "    if is_leap:\n",
    "        return df_year[df_year['hour_of_year'] < 8760]\n",
    "    return df_year\n",
    "\n",
    "# Apply filtering to standardize to 8760 hours\n",
    "df_filtered = df[df['year'].isin(Y)].groupby('year').apply(filter_leap_year).reset_index(drop=True)\n",
    "\n",
    "# Verify each year has exactly 8760 hours\n",
    "hours_per_year_filtered = df_filtered.groupby('year')['hour_of_year'].count()\n",
    "valid_years = hours_per_year_filtered[hours_per_year_filtered == 8760].index.tolist()\n",
    "\n",
    "if not valid_years:\n",
    "    raise ValueError(\"No years with exactly 8760 hours found.\")\n",
    "\n",
    "# Determine how to construct the list of years\n",
    "len_Y = len(valid_years)\n",
    "num_full_sets = n // len_Y  # Number of complete Y sets\n",
    "remainder = n % len_Y  # Number of additional years needed\n",
    "print(remainder)\n",
    "# Build the list of selected years\n",
    "selected_years = []\n",
    "for _ in range(num_full_sets):\n",
    "    selected_years.extend(valid_years)  # Add full Y set\n",
    "if remainder > 0:\n",
    "    print(1)\n",
    "    # Randomly sample remainder years\n",
    "    np.random.seed(42)  # For reproducibility\n",
    "    selected_years.extend(np.random.choice(valid_years, size=remainder, replace=True))\n",
    "\n",
    "# Randomly shuffle the selected years\n",
    "np.random.seed(42)  # For reproducibility\n",
    "np.random.shuffle(selected_years)\n",
    "\n",
    "# Create new DataFrame\n",
    "new_df_list = []\n",
    "for i, year in enumerate(selected_years[:n]):  # Ensure exactly n years\n",
    "    year_data = df_filtered[df_filtered['year'] == year].copy()\n",
    "    year_data['Y'] = i+1\n",
    "    year_data['T'] = range(1,8761)  # 0 to 8759\n",
    "    year_data['value'] = year_data['normalized']\n",
    "    year_data = year_data[['Y', 'T', 'value']]\n",
    "    new_df_list.append(year_data)\n",
    "\n",
    "# Concatenate all years\n",
    "new_df = pd.concat(new_df_list, ignore_index=True)\n",
    "\n",
    "# Save to CSV\n",
    "new_df.to_csv(output_file, index=False)\n",
    "\n",
    "# Print the first few rows for verification\n",
    "print(new_df.head().to_csv(index=False))"
   ]
  }
 ],
 "metadata": {
  "kernelspec": {
   "display_name": "base",
   "language": "python",
   "name": "python3"
  },
  "language_info": {
   "codemirror_mode": {
    "name": "ipython",
    "version": 3
   },
   "file_extension": ".py",
   "mimetype": "text/x-python",
   "name": "python",
   "nbconvert_exporter": "python",
   "pygments_lexer": "ipython3",
   "version": "3.12.7"
  }
 },
 "nbformat": 4,
 "nbformat_minor": 5
}
