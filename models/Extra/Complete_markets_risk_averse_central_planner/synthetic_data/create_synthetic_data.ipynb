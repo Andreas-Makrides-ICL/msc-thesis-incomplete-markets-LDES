{
 "cells": [
  {
   "cell_type": "markdown",
   "id": "fa64acc5",
   "metadata": {},
   "source": [
    "\n",
    "The current script makes changes on the raw load demand data to create synthetic scenario-based inputs.\n",
    "\n",
    "It incorporates 4 demand scenarios (O = 1:4), each designed to reflect different system stress conditions:\n",
    "\n",
    "- O = 1: Baseline demand (original profile)\n",
    "- O = 2: Stress scenario (+15% demand, capped at 1.0)\n",
    "- O = 3: Low demand scenario (−15%)\n",
    "- O = 4: Noisy scenario (±5% random variation)\n",
    "\n",
    "This script preserves the time structure of the original data (T = 1:720).\n"
   ]
  },
  {
   "cell_type": "code",
   "execution_count": 1,
   "id": "acc91b87",
   "metadata": {},
   "outputs": [
    {
     "data": {
      "text/html": [
       "<div><div style = \"float: left;\"><span>7200×3 DataFrame</span></div><div style = \"float: right;\"><span style = \"font-style: italic;\">7175 rows omitted</span></div><div style = \"clear: both;\"></div></div><div class = \"data-frame\" style = \"overflow-x: scroll;\"><table class = \"data-frame\" style = \"margin-bottom: 6px;\"><thead><tr class = \"header\"><th class = \"rowNumber\" style = \"font-weight: bold; text-align: right;\">Row</th><th style = \"text-align: left;\">T</th><th style = \"text-align: left;\">O</th><th style = \"text-align: left;\">value</th></tr><tr class = \"subheader headerLastRow\"><th class = \"rowNumber\" style = \"font-weight: bold; text-align: right;\"></th><th title = \"Int64\" style = \"text-align: left;\">Int64</th><th title = \"Int64\" style = \"text-align: left;\">Int64</th><th title = \"Float64\" style = \"text-align: left;\">Float64</th></tr></thead><tbody><tr><td class = \"rowNumber\" style = \"font-weight: bold; text-align: right;\">1</td><td style = \"text-align: right;\">1</td><td style = \"text-align: right;\">1</td><td style = \"text-align: right;\">0.75</td></tr><tr><td class = \"rowNumber\" style = \"font-weight: bold; text-align: right;\">2</td><td style = \"text-align: right;\">2</td><td style = \"text-align: right;\">1</td><td style = \"text-align: right;\">0.6</td></tr><tr><td class = \"rowNumber\" style = \"font-weight: bold; text-align: right;\">3</td><td style = \"text-align: right;\">3</td><td style = \"text-align: right;\">1</td><td style = \"text-align: right;\">0.86</td></tr><tr><td class = \"rowNumber\" style = \"font-weight: bold; text-align: right;\">4</td><td style = \"text-align: right;\">4</td><td style = \"text-align: right;\">1</td><td style = \"text-align: right;\">0.88</td></tr><tr><td class = \"rowNumber\" style = \"font-weight: bold; text-align: right;\">5</td><td style = \"text-align: right;\">5</td><td style = \"text-align: right;\">1</td><td style = \"text-align: right;\">0.55</td></tr><tr><td class = \"rowNumber\" style = \"font-weight: bold; text-align: right;\">6</td><td style = \"text-align: right;\">6</td><td style = \"text-align: right;\">1</td><td style = \"text-align: right;\">0.82</td></tr><tr><td class = \"rowNumber\" style = \"font-weight: bold; text-align: right;\">7</td><td style = \"text-align: right;\">7</td><td style = \"text-align: right;\">1</td><td style = \"text-align: right;\">0.75</td></tr><tr><td class = \"rowNumber\" style = \"font-weight: bold; text-align: right;\">8</td><td style = \"text-align: right;\">8</td><td style = \"text-align: right;\">1</td><td style = \"text-align: right;\">0.91</td></tr><tr><td class = \"rowNumber\" style = \"font-weight: bold; text-align: right;\">9</td><td style = \"text-align: right;\">9</td><td style = \"text-align: right;\">1</td><td style = \"text-align: right;\">0.64</td></tr><tr><td class = \"rowNumber\" style = \"font-weight: bold; text-align: right;\">10</td><td style = \"text-align: right;\">10</td><td style = \"text-align: right;\">1</td><td style = \"text-align: right;\">0.75</td></tr><tr><td class = \"rowNumber\" style = \"font-weight: bold; text-align: right;\">11</td><td style = \"text-align: right;\">11</td><td style = \"text-align: right;\">1</td><td style = \"text-align: right;\">0.58</td></tr><tr><td class = \"rowNumber\" style = \"font-weight: bold; text-align: right;\">12</td><td style = \"text-align: right;\">12</td><td style = \"text-align: right;\">1</td><td style = \"text-align: right;\">0.79</td></tr><tr><td class = \"rowNumber\" style = \"font-weight: bold; text-align: right;\">13</td><td style = \"text-align: right;\">13</td><td style = \"text-align: right;\">1</td><td style = \"text-align: right;\">0.51</td></tr><tr><td style = \"text-align: right;\">&vellip;</td><td style = \"text-align: right;\">&vellip;</td><td style = \"text-align: right;\">&vellip;</td><td style = \"text-align: right;\">&vellip;</td></tr><tr><td class = \"rowNumber\" style = \"font-weight: bold; text-align: right;\">7189</td><td style = \"text-align: right;\">709</td><td style = \"text-align: right;\">10</td><td style = \"text-align: right;\">0.87</td></tr><tr><td class = \"rowNumber\" style = \"font-weight: bold; text-align: right;\">7190</td><td style = \"text-align: right;\">710</td><td style = \"text-align: right;\">10</td><td style = \"text-align: right;\">0.66</td></tr><tr><td class = \"rowNumber\" style = \"font-weight: bold; text-align: right;\">7191</td><td style = \"text-align: right;\">711</td><td style = \"text-align: right;\">10</td><td style = \"text-align: right;\">0.56</td></tr><tr><td class = \"rowNumber\" style = \"font-weight: bold; text-align: right;\">7192</td><td style = \"text-align: right;\">712</td><td style = \"text-align: right;\">10</td><td style = \"text-align: right;\">0.71</td></tr><tr><td class = \"rowNumber\" style = \"font-weight: bold; text-align: right;\">7193</td><td style = \"text-align: right;\">713</td><td style = \"text-align: right;\">10</td><td style = \"text-align: right;\">0.88</td></tr><tr><td class = \"rowNumber\" style = \"font-weight: bold; text-align: right;\">7194</td><td style = \"text-align: right;\">714</td><td style = \"text-align: right;\">10</td><td style = \"text-align: right;\">0.58</td></tr><tr><td class = \"rowNumber\" style = \"font-weight: bold; text-align: right;\">7195</td><td style = \"text-align: right;\">715</td><td style = \"text-align: right;\">10</td><td style = \"text-align: right;\">0.68</td></tr><tr><td class = \"rowNumber\" style = \"font-weight: bold; text-align: right;\">7196</td><td style = \"text-align: right;\">716</td><td style = \"text-align: right;\">10</td><td style = \"text-align: right;\">0.62</td></tr><tr><td class = \"rowNumber\" style = \"font-weight: bold; text-align: right;\">7197</td><td style = \"text-align: right;\">717</td><td style = \"text-align: right;\">10</td><td style = \"text-align: right;\">0.89</td></tr><tr><td class = \"rowNumber\" style = \"font-weight: bold; text-align: right;\">7198</td><td style = \"text-align: right;\">718</td><td style = \"text-align: right;\">10</td><td style = \"text-align: right;\">0.58</td></tr><tr><td class = \"rowNumber\" style = \"font-weight: bold; text-align: right;\">7199</td><td style = \"text-align: right;\">719</td><td style = \"text-align: right;\">10</td><td style = \"text-align: right;\">0.77</td></tr><tr><td class = \"rowNumber\" style = \"font-weight: bold; text-align: right;\">7200</td><td style = \"text-align: right;\">720</td><td style = \"text-align: right;\">10</td><td style = \"text-align: right;\">0.77</td></tr></tbody></table></div>"
      ],
      "text/latex": [
       "\\begin{tabular}{r|ccc}\n",
       "\t& T & O & value\\\\\n",
       "\t\\hline\n",
       "\t& Int64 & Int64 & Float64\\\\\n",
       "\t\\hline\n",
       "\t1 & 1 & 1 & 0.75 \\\\\n",
       "\t2 & 2 & 1 & 0.6 \\\\\n",
       "\t3 & 3 & 1 & 0.86 \\\\\n",
       "\t4 & 4 & 1 & 0.88 \\\\\n",
       "\t5 & 5 & 1 & 0.55 \\\\\n",
       "\t6 & 6 & 1 & 0.82 \\\\\n",
       "\t7 & 7 & 1 & 0.75 \\\\\n",
       "\t8 & 8 & 1 & 0.91 \\\\\n",
       "\t9 & 9 & 1 & 0.64 \\\\\n",
       "\t10 & 10 & 1 & 0.75 \\\\\n",
       "\t11 & 11 & 1 & 0.58 \\\\\n",
       "\t12 & 12 & 1 & 0.79 \\\\\n",
       "\t13 & 13 & 1 & 0.51 \\\\\n",
       "\t14 & 14 & 1 & 0.66 \\\\\n",
       "\t15 & 15 & 1 & 0.88 \\\\\n",
       "\t16 & 16 & 1 & 0.65 \\\\\n",
       "\t17 & 17 & 1 & 0.89 \\\\\n",
       "\t18 & 18 & 1 & 0.59 \\\\\n",
       "\t19 & 19 & 1 & 0.85 \\\\\n",
       "\t20 & 20 & 1 & 0.86 \\\\\n",
       "\t21 & 21 & 1 & 0.57 \\\\\n",
       "\t22 & 22 & 1 & 0.89 \\\\\n",
       "\t23 & 23 & 1 & 0.63 \\\\\n",
       "\t24 & 24 & 1 & 0.85 \\\\\n",
       "\t$\\dots$ & $\\dots$ & $\\dots$ & $\\dots$ \\\\\n",
       "\\end{tabular}\n"
      ],
      "text/plain": [
       "\u001b[1m7200×3 DataFrame\u001b[0m\n",
       "\u001b[1m  Row \u001b[0m│\u001b[1m T     \u001b[0m\u001b[1m O     \u001b[0m\u001b[1m value   \u001b[0m\n",
       "      │\u001b[90m Int64 \u001b[0m\u001b[90m Int64 \u001b[0m\u001b[90m Float64 \u001b[0m\n",
       "──────┼───────────────────────\n",
       "    1 │     1      1     0.75\n",
       "    2 │     2      1     0.6\n",
       "    3 │     3      1     0.86\n",
       "    4 │     4      1     0.88\n",
       "    5 │     5      1     0.55\n",
       "    6 │     6      1     0.82\n",
       "    7 │     7      1     0.75\n",
       "    8 │     8      1     0.91\n",
       "  ⋮   │   ⋮      ⋮       ⋮\n",
       " 7194 │   714     10     0.58\n",
       " 7195 │   715     10     0.68\n",
       " 7196 │   716     10     0.62\n",
       " 7197 │   717     10     0.89\n",
       " 7198 │   718     10     0.58\n",
       " 7199 │   719     10     0.77\n",
       " 7200 │   720     10     0.77\n",
       "\u001b[36m             7185 rows omitted\u001b[0m"
      ]
     },
     "metadata": {},
     "output_type": "display_data"
    }
   ],
   "source": [
    "using DataFrames, CSV, Random\n",
    "#Change the name of the excel file\n",
    "df = CSV.read(\"load_profile.csv\", DataFrame)"
   ]
  },
  {
   "cell_type": "code",
   "execution_count": 2,
   "id": "04cbf666",
   "metadata": {},
   "outputs": [
    {
     "data": {
      "text/plain": [
       "\"load_profile.csv\""
      ]
     },
     "metadata": {},
     "output_type": "display_data"
    }
   ],
   "source": [
    "# Extract the base profile (assumes scenario 1 is the baseline)\n",
    "base = df[df.O .== 1, :]\n",
    "base = sort(base, :T)\n",
    "\n",
    "# Generate synthetic scenarios\n",
    "T_vals = base.T\n",
    "N = length(T_vals)\n",
    "base_vals = base.value\n",
    "\n",
    "# Create new scenarios\n",
    "stress_vals = min.((1.15 .* base_vals), 1.0)                      # O = 2\n",
    "low_vals = 0.85 .* base_vals                                      # O = 3\n",
    "noisy_vals = clamp.((base_vals .* (1 .+ rand(N) .* 0.1 .- 0.05)), 0.0, 1.0)  # O = 4\n",
    "# Assemble new DataFrame\n",
    "new_df = DataFrame(T = repeat(T_vals, 4),\n",
    "                   O = repeat(1:4, inner = N),\n",
    "                   value = vcat(base_vals, stress_vals, low_vals, noisy_vals))\n",
    "\n",
    "# Save to file\n",
    "CSV.write(\"load_profile.csv\", new_df)"
   ]
  }
 ],
 "metadata": {
  "kernelspec": {
   "display_name": "Julia 1.11.4",
   "language": "julia",
   "name": "julia-1.11"
  },
  "language_info": {
   "file_extension": ".jl",
   "mimetype": "application/julia",
   "name": "julia",
   "version": "1.11.4"
  }
 },
 "nbformat": 4,
 "nbformat_minor": 5
}
